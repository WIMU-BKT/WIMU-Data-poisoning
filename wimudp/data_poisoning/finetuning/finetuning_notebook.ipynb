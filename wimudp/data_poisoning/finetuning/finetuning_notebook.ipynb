{
  "cells": [
    {
      "cell_type": "markdown",
      "source": [
        "## Install dependencies"
      ],
      "metadata": {
        "id": "O7l2C0QKUgwG"
      }
    },
    {
      "cell_type": "markdown",
      "source": [
        "### Install python3.10"
      ],
      "metadata": {
        "id": "M0cd1gxBU3R1"
      }
    },
    {
      "cell_type": "code",
      "source": [
        "%%capture\n",
        "!apt-get update\n",
        "!apt install python3.10"
      ],
      "metadata": {
        "id": "KXRPH88hUe3_"
      },
      "execution_count": 6,
      "outputs": []
    },
    {
      "cell_type": "markdown",
      "source": [
        "### Install poetry"
      ],
      "metadata": {
        "id": "uiME7J0hVAQz"
      }
    },
    {
      "cell_type": "code",
      "source": [
        "%%capture\n",
        "!pip install poetry"
      ],
      "metadata": {
        "id": "8-ydsa7oVCdA"
      },
      "execution_count": 7,
      "outputs": []
    },
    {
      "cell_type": "markdown",
      "source": [
        "### Clone the repository"
      ],
      "metadata": {
        "id": "OXzg3Rz1VSDV"
      }
    },
    {
      "cell_type": "code",
      "source": [
        "!git clone https://github.com/WIMU-BKT/WIMU-Data-poisoning.git"
      ],
      "metadata": {
        "id": "CxMLxJ-mVaZC",
        "outputId": "1592a7fc-443d-4eb6-a97d-3b954335084f",
        "colab": {
          "base_uri": "https://localhost:8080/"
        }
      },
      "execution_count": 49,
      "outputs": [
        {
          "output_type": "stream",
          "name": "stdout",
          "text": [
            "Cloning into 'WIMU-Data-poisoning'...\n",
            "remote: Enumerating objects: 403, done.\u001b[K\n",
            "remote: Counting objects: 100% (171/171), done.\u001b[K\n",
            "remote: Compressing objects: 100% (126/126), done.\u001b[K\n",
            "remote: Total 403 (delta 49), reused 123 (delta 29), pack-reused 232 (from 1)\u001b[K\n",
            "Receiving objects: 100% (403/403), 10.47 MiB | 16.40 MiB/s, done.\n",
            "Resolving deltas: 100% (139/139), done.\n"
          ]
        }
      ]
    },
    {
      "cell_type": "code",
      "source": [
        "import os\n",
        "\n",
        "os.chdir(\"./content/WIMU-Data-poisoning\")"
      ],
      "metadata": {
        "id": "8MuuLC0CVbOp"
      },
      "execution_count": 50,
      "outputs": []
    },
    {
      "cell_type": "markdown",
      "source": [
        "### Intialize submodules"
      ],
      "metadata": {
        "id": "g6OvYTxEVeHY"
      }
    },
    {
      "cell_type": "code",
      "source": [
        "!git checkout audioldm-finetuning\n",
        "!git submodule init\n",
        "!git submodule update"
      ],
      "metadata": {
        "id": "AFD3EN29Vik7",
        "outputId": "f2c12c54-c372-45e2-8c99-4e7f99bfc287",
        "colab": {
          "base_uri": "https://localhost:8080/"
        }
      },
      "execution_count": 51,
      "outputs": [
        {
          "output_type": "stream",
          "name": "stdout",
          "text": [
            "Branch 'audioldm-finetuning' set up to track remote branch 'audioldm-finetuning' from 'origin'.\n",
            "Switched to a new branch 'audioldm-finetuning'\n",
            "Submodule 'wimudp/data-poisoning/finetuning/audioldm' (https://github.com/haoheliu/AudioLDM-training-finetuning.git) registered for path 'wimudp/data-poisoning/finetuning/audioldm'\n",
            "Cloning into '/content/WIMU-Data-poisoning/wimudp/data-poisoning/finetuning/audioldm'...\n",
            "Submodule path 'wimudp/data-poisoning/finetuning/audioldm': checked out '298aeb711fe9e311dda5bbe2aa705a3059e79fd3'\n"
          ]
        }
      ]
    },
    {
      "cell_type": "markdown",
      "source": [
        "### Create poetry venv and install dependencies"
      ],
      "metadata": {
        "id": "2WfnmjOYV1Qq"
      }
    },
    {
      "cell_type": "code",
      "source": [
        "import os\n",
        "os.chdir(\"./wimudp/data-poisoning/finetuning/audioldm\")"
      ],
      "metadata": {
        "id": "36Kd1kn8V421"
      },
      "execution_count": null,
      "outputs": []
    },
    {
      "cell_type": "code",
      "source": [
        "!poetry env use python3.10 && poetry install"
      ],
      "metadata": {
        "id": "vcEQ4l11WIeT",
        "outputId": "1f8c8266-a8e5-40c1-a7b6-74d92b41bf0c",
        "colab": {
          "base_uri": "https://localhost:8080/"
        }
      },
      "execution_count": 58,
      "outputs": [
        {
          "output_type": "stream",
          "name": "stdout",
          "text": [
            "Using virtualenv: \u001b[32m/root/.cache/pypoetry/virtualenvs/audioldm-train-IuJTb_iL-py3.10\u001b[39m\n",
            "\u001b[34mInstalling dependencies from lock file\u001b[39m\n",
            "\n",
            "No dependencies to install or update\n",
            "\n",
            "\u001b[39;1mInstalling\u001b[39;22m the current project: \u001b[36maudioldm-train\u001b[39m (\u001b[39;1m0.1.0\u001b[39;22m)\u001b[1G\u001b[2K\u001b[39;1mInstalling\u001b[39;22m the current project: \u001b[36maudioldm-train\u001b[39m (\u001b[32m0.1.0\u001b[39m)\n"
          ]
        }
      ]
    },
    {
      "cell_type": "markdown",
      "source": [
        "## Required files"
      ],
      "metadata": {
        "id": "mTLdZq8YWP8H"
      }
    },
    {
      "cell_type": "markdown",
      "source": [
        "### Mount Google Drive"
      ],
      "metadata": {
        "id": "s8aNk3jMjTYp"
      }
    },
    {
      "cell_type": "code",
      "source": [
        "from google.colab import drive\n",
        "drive.mount('/content/drive')"
      ],
      "metadata": {
        "id": "7wCZW2kQjYOI",
        "outputId": "b5988389-afda-442f-838b-bc6f85d4ae6c",
        "colab": {
          "base_uri": "https://localhost:8080/"
        }
      },
      "execution_count": 59,
      "outputs": [
        {
          "output_type": "stream",
          "name": "stdout",
          "text": [
            "Drive already mounted at /content/drive; to attempt to forcibly remount, call drive.mount(\"/content/drive\", force_remount=True).\n"
          ]
        }
      ]
    },
    {
      "cell_type": "markdown",
      "source": [
        "### Move required files to appropriate dirs"
      ],
      "metadata": {
        "id": "Vboq0CS7nymA"
      }
    },
    {
      "cell_type": "code",
      "source": [
        "%%bash\n",
        "mv -t ./data/checkpoints /content/drive/MyDrive/audiomae_16k_128bins.ckpt \\\n",
        "/content/drive/MyDrive/clap_htsat_tiny.pt \\\n",
        "/content/drive/MyDrive/clap_music_speech_audioset_epoch_15_esc_89.98.pt \\\n",
        "/content/drive/MyDrive/hifigan_16k_64bins.ckpt \\\n",
        "/content/drive/MyDrive/hifigan_16k_64bins.json \\\n",
        "/content/drive/MyDrive/hifigan_48k_256bins.ckpt \\\n",
        "/content/drive/MyDrive/hifigan_48k_256bins.json \\\n",
        "/content/drive/MyDrive/vae_mel_16k_64bins.ckpt \\\n",
        "/content/drive/MyDrive/audioldm-m-full.ckpt"
      ],
      "metadata": {
        "id": "UCvUhTZIn92k"
      },
      "execution_count": 61,
      "outputs": []
    },
    {
      "cell_type": "markdown",
      "source": [
        "### Restructure dataset to match AudioCaps headers"
      ],
      "metadata": {
        "id": "yDsBdMmuquKG"
      }
    },
    {
      "cell_type": "code",
      "source": [
        "!poetry run python3 ../data_script.py"
      ],
      "metadata": {
        "id": "4wVkRr-awkLZ",
        "outputId": "538a9b9a-6cfd-44de-cbe1-3630159a70b5",
        "colab": {
          "base_uri": "https://localhost:8080/"
        }
      },
      "execution_count": 63,
      "outputs": [
        {
          "output_type": "stream",
          "name": "stdout",
          "text": [
            "\r  0% 0/3 [00:00<?, ?it/s]\r100% 3/3 [00:00<00:00, 301.17it/s]\n",
            "Dataset structured successfully!\n"
          ]
        }
      ]
    },
    {
      "cell_type": "markdown",
      "source": [
        "## AudioLDM finetuning"
      ],
      "metadata": {
        "id": "IViBAGLKxUsq"
      }
    },
    {
      "cell_type": "markdown",
      "source": [
        "### Run finetuning script using prepared dataset"
      ],
      "metadata": {
        "id": "GUjA4NhAxcWx"
      }
    },
    {
      "cell_type": "code",
      "source": [
        "!poetry run python3 audioldm_train/train/latent_diffusion.py \\\n",
        "-c audioldm_train/config/2023_08_23_reproduce_audioldm/audioldm_original_medium.yaml \\\n",
        "--reload_from_ckpt data/checkpoints/audioldm-m-full.ckpt"
      ],
      "metadata": {
        "id": "cbpKi0GG5L3Q"
      },
      "execution_count": null,
      "outputs": []
    },
    {
      "cell_type": "code",
      "source": [
        "!pip install colab-xterm\n",
        "%load_ext colabxterm\n",
        "%xterm"
      ],
      "metadata": {
        "id": "Sw9AAOLs1VxT"
      },
      "execution_count": null,
      "outputs": []
    }
  ],
  "metadata": {
    "language_info": {
      "name": "python"
    },
    "colab": {
      "provenance": [],
      "gpuType": "T4"
    },
    "accelerator": "GPU",
    "kernelspec": {
      "name": "python3",
      "display_name": "Python 3"
    }
  },
  "nbformat": 4,
  "nbformat_minor": 0
}
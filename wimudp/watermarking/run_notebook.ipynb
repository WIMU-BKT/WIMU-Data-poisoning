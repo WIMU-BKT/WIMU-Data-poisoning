{
  "cells": [
    {
      "cell_type": "markdown",
      "source": [
        "## Install dependencies\n",
        "\n",
        "\n"
      ],
      "metadata": {
        "id": "qbhLZNJWQgA9"
      }
    },
    {
      "cell_type": "markdown",
      "source": [
        "### Install python3.11"
      ],
      "metadata": {
        "id": "CpSc4NwFXOak"
      }
    },
    {
      "cell_type": "code",
      "source": [
        "%%capture\n",
        "!apt-get update\n",
        "!apt install python3.11"
      ],
      "metadata": {
        "id": "eWa95iRhQjTs"
      },
      "execution_count": 2,
      "outputs": []
    },
    {
      "cell_type": "markdown",
      "source": [
        "### Install poetry"
      ],
      "metadata": {
        "id": "bF0w3fZHTHq-"
      }
    },
    {
      "cell_type": "code",
      "source": [
        "%%capture\n",
        "!pip install poetry"
      ],
      "metadata": {
        "id": "tOCDy7jVSyOq"
      },
      "execution_count": 3,
      "outputs": []
    },
    {
      "cell_type": "markdown",
      "source": [
        "### Clone the repository"
      ],
      "metadata": {
        "id": "xHgRpKl1VdA4"
      }
    },
    {
      "cell_type": "code",
      "source": [
        "!git clone https://github.com/WIMU-BKT/WIMU-Data-poisoning.git"
      ],
      "metadata": {
        "colab": {
          "base_uri": "https://localhost:8080/"
        },
        "id": "_63WZhuZVhZA",
        "outputId": "9ef6441d-a148-4227-8f20-18a917d5058c"
      },
      "execution_count": 38,
      "outputs": [
        {
          "output_type": "stream",
          "name": "stdout",
          "text": [
            "Cloning into 'WIMU-Data-poisoning'...\n",
            "remote: Enumerating objects: 327, done.\u001b[K\n",
            "remote: Counting objects: 100% (95/95), done.\u001b[K\n",
            "remote: Compressing objects: 100% (70/70), done.\u001b[K\n",
            "remote: Total 327 (delta 24), reused 67 (delta 18), pack-reused 232 (from 1)\u001b[K\n",
            "Receiving objects: 100% (327/327), 8.80 MiB | 18.62 MiB/s, done.\n",
            "Resolving deltas: 100% (114/114), done.\n"
          ]
        }
      ]
    },
    {
      "cell_type": "code",
      "source": [
        "import os\n",
        "\n",
        "os.chdir(\"/content/WIMU-Data-poisoning\")"
      ],
      "metadata": {
        "id": "PkGtXshsX9s5"
      },
      "execution_count": 39,
      "outputs": []
    },
    {
      "cell_type": "markdown",
      "source": [
        "###Create poetry venv and install dependencies"
      ],
      "metadata": {
        "id": "MUBcMR77WHp6"
      }
    },
    {
      "cell_type": "code",
      "source": [
        "%%capture\n",
        "!git checkout audioldm\n",
        "!poetry env use python3.11 && poetry install"
      ],
      "metadata": {
        "id": "v-szpk__WKCy"
      },
      "execution_count": 40,
      "outputs": []
    },
    {
      "cell_type": "markdown",
      "source": [
        "## Run experiments"
      ],
      "metadata": {
        "id": "3yJMQux6ZqI2"
      }
    },
    {
      "cell_type": "code",
      "source": [
        "%%bash\n",
        "!poetry run bash -c\n",
        "'export PYTHONPATH=$PYTHONPATH:/content/WIMU-Data-poisoning/wimudp/watermarking  \\\n",
        "&& python ./wimudp/watermarking/run.py -m audioldm -a trumpet'\n"
      ],
      "metadata": {
        "id": "dzbg9SMoZufr"
      },
      "execution_count": null,
      "outputs": []
    }
  ],
  "metadata": {
    "kernelspec": {
      "display_name": "Python 3",
      "name": "python3"
    },
    "language_info": {
      "codemirror_mode": {
        "name": "ipython",
        "version": 3
      },
      "file_extension": ".py",
      "mimetype": "text/x-python",
      "name": "python",
      "nbconvert_exporter": "python",
      "pygments_lexer": "ipython3",
      "version": "3.11.10"
    },
    "colab": {
      "provenance": [],
      "gpuType": "T4"
    },
    "accelerator": "GPU"
  },
  "nbformat": 4,
  "nbformat_minor": 0
}
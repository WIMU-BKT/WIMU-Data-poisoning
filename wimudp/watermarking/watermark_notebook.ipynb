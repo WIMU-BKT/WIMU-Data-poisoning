{
 "cells": [
  {
   "cell_type": "markdown",
   "metadata": {
    "id": "qbhLZNJWQgA9"
   },
   "source": [
    "## Install dependencies\n",
    "\n",
    "\n"
   ]
  },
  {
   "cell_type": "markdown",
   "metadata": {
    "id": "CpSc4NwFXOak"
   },
   "source": [
    "### Install python3.11"
   ]
  },
  {
   "cell_type": "code",
   "execution_count": 1,
   "metadata": {
    "id": "eWa95iRhQjTs"
   },
   "outputs": [],
   "source": [
    "%%capture\n",
    "!apt-get update\n",
    "!apt install python3.11"
   ]
  },
  {
   "cell_type": "markdown",
   "metadata": {
    "id": "bF0w3fZHTHq-"
   },
   "source": [
    "### Install poetry"
   ]
  },
  {
   "cell_type": "code",
   "execution_count": 2,
   "metadata": {
    "id": "tOCDy7jVSyOq"
   },
   "outputs": [],
   "source": [
    "%%capture\n",
    "!pip install poetry"
   ]
  },
  {
   "cell_type": "markdown",
   "metadata": {
    "id": "xHgRpKl1VdA4"
   },
   "source": [
    "### Clone the repository"
   ]
  },
  {
   "cell_type": "code",
   "execution_count": null,
   "metadata": {
    "colab": {
     "base_uri": "https://localhost:8080/"
    },
    "id": "_63WZhuZVhZA",
    "outputId": "c28485a3-4b6a-4015-850e-2fa238f62596"
   },
   "outputs": [],
   "source": [
    "!git clone https://github.com/WIMU-BKT/WIMU-Data-poisoning.git"
   ]
  },
  {
   "cell_type": "code",
   "execution_count": 4,
   "metadata": {
    "id": "PkGtXshsX9s5"
   },
   "outputs": [],
   "source": [
    "import os\n",
    "\n",
    "os.chdir(\"/content/WIMU-Data-poisoning\")"
   ]
  },
  {
   "cell_type": "markdown",
   "metadata": {
    "id": "MUBcMR77WHp6"
   },
   "source": [
    "###Create poetry venv and install dependencies"
   ]
  },
  {
   "cell_type": "code",
   "execution_count": null,
   "metadata": {
    "colab": {
     "base_uri": "https://localhost:8080/"
    },
    "id": "v-szpk__WKCy",
    "outputId": "c4a99bca-e74b-4375-9d61-49eae0e5c6ee"
   },
   "outputs": [],
   "source": [
    "!git checkout audioldm\n",
    "!poetry env use python3.11 && poetry install"
   ]
  },
  {
   "cell_type": "markdown",
   "metadata": {
    "id": "3yJMQux6ZqI2"
   },
   "source": [
    "## Run experiments"
   ]
  },
  {
   "cell_type": "code",
   "execution_count": 9,
   "metadata": {
    "colab": {
     "base_uri": "https://localhost:8080/"
    },
    "id": "dzbg9SMoZufr",
    "outputId": "1cc3dbd7-b515-4946-92d8-f94964598408"
   },
   "outputs": [
    {
     "name": "stdout",
     "output_type": "stream",
     "text": [
      "Process is terminated.\n"
     ]
    }
   ],
   "source": [
    "%%bash\n",
    "poetry run bash -c \\\n",
    "'export PYTHONPATH=$PYTHONPATH:/content/WIMU-Data-poisoning/wimudp/watermarking \\\n",
    "&& python ./wimudp/watermarking/run.py -m audioldm -a brahms'\n"
   ]
  }
 ],
 "metadata": {
  "accelerator": "GPU",
  "colab": {
   "gpuType": "T4",
   "provenance": []
  },
  "kernelspec": {
   "display_name": "Python 3",
   "name": "python3"
  },
  "language_info": {
   "codemirror_mode": {
    "name": "ipython",
    "version": 3
   },
   "file_extension": ".py",
   "mimetype": "text/x-python",
   "name": "python",
   "nbconvert_exporter": "python",
   "pygments_lexer": "ipython3",
   "version": "3.11.10"
  }
 },
 "nbformat": 4,
 "nbformat_minor": 0
}
